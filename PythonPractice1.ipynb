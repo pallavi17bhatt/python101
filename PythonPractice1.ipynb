{
  "nbformat": 4,
  "nbformat_minor": 0,
  "metadata": {
    "colab": {
      "provenance": [],
      "authorship_tag": "ABX9TyN9T7CgkvXOF7c9WQBeeqiH",
      "include_colab_link": true
    },
    "kernelspec": {
      "name": "python3",
      "display_name": "Python 3"
    },
    "language_info": {
      "name": "python"
    }
  },
  "cells": [
    {
      "cell_type": "markdown",
      "metadata": {
        "id": "view-in-github",
        "colab_type": "text"
      },
      "source": [
        "<a href=\"https://colab.research.google.com/github/pallavi17bhatt/python101/blob/main/PythonPractice1.ipynb\" target=\"_parent\"><img src=\"https://colab.research.google.com/assets/colab-badge.svg\" alt=\"Open In Colab\"/></a>"
      ]
    },
    {
      "cell_type": "code",
      "execution_count": null,
      "metadata": {
        "id": "FIyn9vzDFMYo"
      },
      "outputs": [],
      "source": []
    },
    {
      "cell_type": "markdown",
      "source": [
        "Learning Python Day 1"
      ],
      "metadata": {
        "id": "y5Sd8qw_FTMF"
      }
    },
    {
      "cell_type": "code",
      "source": [
        "print(\"Hello world\")"
      ],
      "metadata": {
        "colab": {
          "base_uri": "https://localhost:8080/"
        },
        "id": "6wYEEykXFSNe",
        "outputId": "5c9368ee-a88b-443a-cca0-fde892cee09c"
      },
      "execution_count": 1,
      "outputs": [
        {
          "output_type": "stream",
          "name": "stdout",
          "text": [
            "Hello world\n"
          ]
        }
      ]
    },
    {
      "cell_type": "markdown",
      "source": [
        "Calculate the number of seconds in four years"
      ],
      "metadata": {
        "id": "lqk_Jc_TnnzO"
      }
    },
    {
      "cell_type": "code",
      "source": [
        "num_of_years=4\n",
        "days_per_year=365\n",
        "hours_per_day=24\n",
        "mins_per_hour=60\n",
        "secs_per_min=60\n",
        "\n",
        "total_secs= num_of_years * days_per_year * hours_per_day * mins_per_hour * secs_per_min\n",
        "print(total_secs)"
      ],
      "metadata": {
        "colab": {
          "base_uri": "https://localhost:8080/"
        },
        "id": "m0Kflf1anmhh",
        "outputId": "2a78de01-c648-4bf2-f3a4-23f78393ae89"
      },
      "execution_count": 2,
      "outputs": [
        {
          "output_type": "stream",
          "name": "stdout",
          "text": [
            "126144000\n"
          ]
        }
      ]
    },
    {
      "cell_type": "markdown",
      "source": [
        "Calculate the salary of a person after giving 12% tax. His hourly salary is 15$/hour. Calculate his weekly pay"
      ],
      "metadata": {
        "id": "bg5pu4bIsQ2q"
      }
    },
    {
      "cell_type": "code",
      "source": [
        "def get_pay(numofhours):\n",
        "  #calculating total pay before deducting tax\n",
        "    pay_before_tax=15*numofhours\n",
        "  #If he is giving 12%tax that means he is taking home 88% of his total salary and 88% can be written as(1-12/100) or (1-.12)\n",
        "    pay_after_tax=pay_before_tax*(1-.12)\n",
        "    return pay_after_tax\n",
        "\n",
        "\n",
        "weekly_pay=get_pay(40)\n",
        "print(weekly_pay)\n",
        "\n",
        ""
      ],
      "metadata": {
        "colab": {
          "base_uri": "https://localhost:8080/"
        },
        "id": "Kl4RC2U8tEdq",
        "outputId": "45668cf0-e65e-47d2-d5b0-d44db91ca4ee"
      },
      "execution_count": 12,
      "outputs": [
        {
          "output_type": "stream",
          "name": "stdout",
          "text": [
            "528.0\n"
          ]
        }
      ]
    },
    {
      "cell_type": "markdown",
      "source": [
        "Function with multiple arguments"
      ],
      "metadata": {
        "id": "_pb5tJMBw8xK"
      }
    },
    {
      "cell_type": "code",
      "source": [
        "def calculate_salary_aftertax(numofhours, hourlywage, tax_bracket):\n",
        "  pay_before_tax=numofhours*hourlywage\n",
        "  pay_after_tax=pay_before_tax*(1-tax_bracket)\n",
        "  return pay_after_tax\n",
        "\n",
        "\n",
        "\n",
        "take_home_salary=calculate_salary_aftertax(40, 15, .12)\n",
        "print(take_home_salary)"
      ],
      "metadata": {
        "colab": {
          "base_uri": "https://localhost:8080/"
        },
        "id": "3kWZ0HY0weHc",
        "outputId": "f7a70d23-a9c4-40d7-8073-2dff885441a8"
      },
      "execution_count": 15,
      "outputs": [
        {
          "output_type": "stream",
          "name": "stdout",
          "text": [
            "528.0\n"
          ]
        }
      ]
    },
    {
      "cell_type": "markdown",
      "source": [
        "Learning Datatypes in Python. In Pyhton we do not need to specify datatype when declaring variable because python is a dynamically typed language and pyhton will fugure out datatypes on its own.\n"
      ],
      "metadata": {
        "id": "O-AEe1v-EuOM"
      }
    },
    {
      "cell_type": "code",
      "source": [
        "x=34\n",
        "print(x)\n",
        "print(type(x))\n",
        "\n",
        "\n",
        "y=1.5657\n",
        "print(y)\n",
        "print(type(y))\n",
        "\n",
        "\n",
        "name=\"foo\"\n",
        "print(name)\n",
        "print(type(name))\n",
        "\n",
        "z=1.0\n",
        "print(z)\n",
        "print(type(z))\n",
        "\n"
      ],
      "metadata": {
        "colab": {
          "base_uri": "https://localhost:8080/"
        },
        "id": "YaoHDSy_E0Nf",
        "outputId": "6482e04f-97e2-4a40-871c-cb061c22942a"
      },
      "execution_count": 1,
      "outputs": [
        {
          "output_type": "stream",
          "name": "stdout",
          "text": [
            "34\n",
            "<class 'int'>\n",
            "1.5657\n",
            "<class 'float'>\n",
            "foo\n",
            "<class 'str'>\n",
            "1.0\n",
            "<class 'float'>\n"
          ]
        }
      ]
    },
    {
      "cell_type": "markdown",
      "source": [
        "round function and len function"
      ],
      "metadata": {
        "id": "IhI6cJTHHh-7"
      }
    },
    {
      "cell_type": "code",
      "source": [
        "rounded_value = round(23.45678, 3)\n",
        "print(rounded_value)\n",
        "print(type(rounded_value))\n",
        "\n",
        "name = \"foo\"\n",
        "print(name)\n",
        "print(len(name))\n",
        "\n"
      ],
      "metadata": {
        "colab": {
          "base_uri": "https://localhost:8080/"
        },
        "id": "xyyGNPPZHmr2",
        "outputId": "f15c5a45-01c8-4242-ed19-a06705e5b0ea"
      },
      "execution_count": 2,
      "outputs": [
        {
          "output_type": "stream",
          "name": "stdout",
          "text": [
            "23.457\n",
            "<class 'float'>\n",
            "foo\n",
            "3\n"
          ]
        }
      ]
    },
    {
      "cell_type": "markdown",
      "source": [
        "Any number which is positive, negative or zero is an integer. Any fraction or decimal is treated as float. Let us check"
      ],
      "metadata": {
        "id": "qJSJHKSTIhPo"
      }
    },
    {
      "cell_type": "code",
      "source": [
        "frn=33/12\n",
        "print(frn)\n",
        "print(type(frn))"
      ],
      "metadata": {
        "colab": {
          "base_uri": "https://localhost:8080/"
        },
        "id": "7tMpZvNcJvnG",
        "outputId": "e468d9e4-3cd4-4f0b-aff0-b529ce916559"
      },
      "execution_count": 20,
      "outputs": [
        {
          "output_type": "stream",
          "name": "stdout",
          "text": [
            "2.75\n",
            "<class 'float'>\n"
          ]
        }
      ]
    },
    {
      "cell_type": "code",
      "source": [],
      "metadata": {
        "colab": {
          "base_uri": "https://localhost:8080/"
        },
        "id": "GKdlNQouKi57",
        "outputId": "a4844fa5-905e-4d88-a412-7f814dace49e"
      },
      "execution_count": 23,
      "outputs": [
        {
          "output_type": "execute_result",
          "data": {
            "text/plain": [
              "3.0"
            ]
          },
          "metadata": {},
          "execution_count": 23
        }
      ]
    },
    {
      "cell_type": "markdown",
      "source": [
        "# Undestanding List and if_else statements in pyhton"
      ],
      "metadata": {
        "id": "rvhJ9X8FQEY1"
      }
    },
    {
      "cell_type": "code",
      "source": [
        "def calculate_body_temp(temp):\n",
        "  if(temp<=38):\n",
        "    message=\"Normal temprature\"\n",
        "  else:\n",
        "    message=\"fever\"\n",
        "  return message\n",
        "\n",
        "\n",
        "body_state=calculate_body_temp(40)\n",
        "print(body_state)\n"
      ],
      "metadata": {
        "colab": {
          "base_uri": "https://localhost:8080/"
        },
        "id": "foiYtcyCQK01",
        "outputId": "8ae706c0-a2dc-4b87-ae50-61a44273e096"
      },
      "execution_count": 28,
      "outputs": [
        {
          "output_type": "stream",
          "name": "stdout",
          "text": [
            "fever\n"
          ]
        }
      ]
    },
    {
      "cell_type": "markdown",
      "source": [
        "# Else_if can be written as elif in pytnon. Lets see\n",
        "\n",
        "Write a method to add two numbers"
      ],
      "metadata": {
        "id": "KiVJ1OZgRckF"
      }
    },
    {
      "cell_type": "code",
      "source": [
        "def addnumbers(x,y):\n",
        "\n",
        "  z=x+y\n",
        "  return z\n",
        "total=addnumbers(5,6)\n",
        "print(total)"
      ],
      "metadata": {
        "colab": {
          "base_uri": "https://localhost:8080/"
        },
        "id": "fOwflY1IRlYr",
        "outputId": "11284a17-f9f0-476d-b8b1-508a79f5ede4"
      },
      "execution_count": 43,
      "outputs": [
        {
          "output_type": "stream",
          "name": "stdout",
          "text": [
            "11\n"
          ]
        }
      ]
    },
    {
      "cell_type": "markdown",
      "source": [
        "# Write a method to subtract two numbers"
      ],
      "metadata": {
        "id": "sHNRI1uoVwQH"
      }
    },
    {
      "cell_type": "code",
      "source": [
        "def subtractnumbers(x,y):\n",
        "  z=x-y\n",
        "  return z\n",
        "total=addnumbers(5,6)\n",
        "print(total)"
      ],
      "metadata": {
        "colab": {
          "base_uri": "https://localhost:8080/"
        },
        "id": "qgXobuXfV4nE",
        "outputId": "f24b0765-7483-4220-ffeb-31994843e375"
      },
      "execution_count": 30,
      "outputs": [
        {
          "output_type": "stream",
          "name": "stdout",
          "text": [
            "-1\n"
          ]
        }
      ]
    },
    {
      "cell_type": "markdown",
      "source": [
        "Write a method naming calculate which takes three arguments\n",
        "\n",
        "1. string methodname\n",
        "2. number 1\n",
        "3. number 2"
      ],
      "metadata": {
        "id": "b8TJ95NPV-8O"
      }
    },
    {
      "cell_type": "code",
      "source": [
        "def calculate(operation, x, y):\n",
        "\n",
        "  if(operation==\"add\"):\n",
        "\n",
        "    result = addnumbers(x,y)\n",
        "  elif (operation==\"subtract\"):\n",
        "    result = subtractnumbers(x,y)\n",
        "  else:\n",
        "    result = \"NotSupported\"\n",
        "  return result\n",
        "\n",
        "calculate(\"add\", 2,3)"
      ],
      "metadata": {
        "colab": {
          "base_uri": "https://localhost:8080/"
        },
        "id": "xE8FlIvHWXOQ",
        "outputId": "883d6c35-ed07-4edd-ac93-bdf3104d7659"
      },
      "execution_count": 44,
      "outputs": [
        {
          "output_type": "execute_result",
          "data": {
            "text/plain": [
              "5"
            ]
          },
          "metadata": {},
          "execution_count": 44
        }
      ]
    },
    {
      "cell_type": "code",
      "source": [
        "ls=[1,2,4,5,6,7,8,9,11,13,24,34,26,38,40,42,56,60,80]\n",
        "for num in ls:\n",
        "  if(num%2==0):\n",
        "      print(num)"
      ],
      "metadata": {
        "colab": {
          "base_uri": "https://localhost:8080/"
        },
        "id": "2hFB2N9yX104",
        "outputId": "b41f933b-ce19-49fd-800c-a0d23c46e1fc"
      },
      "execution_count": 2,
      "outputs": [
        {
          "output_type": "stream",
          "name": "stdout",
          "text": [
            "2\n",
            "4\n",
            "6\n",
            "8\n",
            "24\n",
            "34\n",
            "26\n",
            "38\n",
            "40\n",
            "42\n",
            "56\n",
            "60\n",
            "80\n"
          ]
        }
      ]
    },
    {
      "cell_type": "code",
      "source": [
        "ls=[1,2,4,5,6,7,8,9,11,13,24,34,26,38,40,42,56,60,80]\n",
        "totalevennum=0\n",
        "for num in ls:\n",
        "  if(num%2==0):\n",
        "    totalevennum=totalevennum+1\n",
        "\n",
        "print(totalevennum)"
      ],
      "metadata": {
        "colab": {
          "base_uri": "https://localhost:8080/"
        },
        "id": "r2tQeSqRhTbt",
        "outputId": "9697520a-d037-4779-bde2-3c12ad3826f5"
      },
      "execution_count": 5,
      "outputs": [
        {
          "output_type": "stream",
          "name": "stdout",
          "text": [
            "13\n"
          ]
        }
      ]
    },
    {
      "cell_type": "code",
      "source": [
        "ls=[1,2,4,5,6,7,8,9,11,13,24,34,26,38,40,42,56,60,80]\n",
        "i=0\n",
        "while(i<len(ls)):\n",
        "\n",
        "  num=ls[i]\n",
        "  if(num%2==0):\n",
        "    print(num)\n",
        "  i=i+1"
      ],
      "metadata": {
        "colab": {
          "base_uri": "https://localhost:8080/"
        },
        "id": "zo-flirelcFc",
        "outputId": "c25fa711-7278-417a-90c4-6a9d78e0a26e"
      },
      "execution_count": 3,
      "outputs": [
        {
          "output_type": "stream",
          "name": "stdout",
          "text": [
            "2\n",
            "4\n",
            "6\n",
            "8\n",
            "24\n",
            "34\n",
            "26\n",
            "38\n",
            "40\n",
            "42\n",
            "56\n",
            "60\n",
            "80\n"
          ]
        }
      ]
    },
    {
      "cell_type": "code",
      "source": [
        "ls=[1,2,4,5,6,7,8,9,11,13,24,34,26,38,40,42,56,60,80]\n",
        "i=0\n",
        "totalevennum=0\n",
        "while(i<len(ls)):\n",
        "  num=ls[i]\n",
        "  if(num%2==0):\n",
        "    totalevennum=totalevennum+1\n",
        "\n",
        "  i=i+1\n",
        "print(totalevennum)"
      ],
      "metadata": {
        "colab": {
          "base_uri": "https://localhost:8080/"
        },
        "id": "u526ws3boBTI",
        "outputId": "4e978bba-d0a5-4d35-e0a6-1500e461ea07"
      },
      "execution_count": 4,
      "outputs": [
        {
          "output_type": "stream",
          "name": "stdout",
          "text": [
            "13\n"
          ]
        }
      ]
    },
    {
      "cell_type": "markdown",
      "source": [],
      "metadata": {
        "id": "MkK6nBzzacw9"
      }
    },
    {
      "cell_type": "markdown",
      "source": [
        "# Sum the numbers in the following two array by their index and create a new list\n"
      ],
      "metadata": {
        "id": "WrIYNhjPqY8J"
      }
    },
    {
      "cell_type": "code",
      "source": [
        "x=[1,2,3,4,5]\n",
        "y=[5,10,12,13,15]\n",
        "i=0\n",
        "sum=[]\n",
        "while(i<len(x)):\n",
        "  sum.append(x[i]+y[i])\n",
        "\n",
        "\n",
        "  i=i+1\n",
        "sum"
      ],
      "metadata": {
        "colab": {
          "base_uri": "https://localhost:8080/"
        },
        "id": "Sber__NPq7pu",
        "outputId": "fb49e9f6-ff32-4db4-9bf4-58fbb919979b"
      },
      "execution_count": 8,
      "outputs": [
        {
          "output_type": "execute_result",
          "data": {
            "text/plain": [
              "[6, 12, 15, 17, 20]"
            ]
          },
          "metadata": {},
          "execution_count": 8
        }
      ]
    },
    {
      "cell_type": "markdown",
      "source": [
        "# For each item inthe following list of firtsname and lastname of the people, create a list of greetings, with the following message.\n",
        "\n",
        "message = \"Hello, Firstname Lastname!\"\n",
        "people= people= [[\"John\", \"Clark\"], [\"Colin\", \"Bridgerton\"],[\"Rahul\", \"Singh\"],[\"Amy\", \"Shaw\"]]\n",
        "\n",
        "\n",
        "greetings = ['Hello, John Clark!', 'Hello, Colin Bridgerton!', 'Hello, Rahul Singh!', 'Hello, Amy Shaw!]\n"
      ],
      "metadata": {
        "id": "re-EHoCyvQ5R"
      }
    },
    {
      "cell_type": "code",
      "source": [
        "people= [[\"John\", \"Clark\"], [\"Colin\", \"Bridgerton\"],[\"Rahul\", \"Singh\"],[\"Amy\", \"Shaw\"]]\n",
        "greetings=[]\n",
        "\n",
        "for eachperson in people:\n",
        "  message=\"Hello, \" + eachperson[0] + \" \" + eachperson[1] + \"!\"\n",
        "  greetings.append(message)\n",
        "\n",
        "print(greetings)"
      ],
      "metadata": {
        "colab": {
          "base_uri": "https://localhost:8080/"
        },
        "id": "sdpCQ5IowwDF",
        "outputId": "254185c6-b9dc-4acd-a706-9237646421cf"
      },
      "execution_count": 3,
      "outputs": [
        {
          "output_type": "stream",
          "name": "stdout",
          "text": [
            "['Hello, John Clark!', 'Hello, Colin Bridgerton!', 'Hello, Rahul Singh!', 'Hello, Amy Shaw!']\n"
          ]
        }
      ]
    },
    {
      "cell_type": "markdown",
      "source": [
        "# Learning So far\n",
        "1. The variable which is the final outcome should be declared/initialized outside the loop. For eg, sum=0 is initialized outside the loop. If i initialize sum=0 inside the loop, it will give me 0 untill the loop terminated/breaks.\n",
        "\n",
        "2. When you need control over iterator that is \"i\", we will use while loop. And when there is no need of iterator involving in logic we can use for loop.\n",
        "```\n",
        "x=[1,2,3,4,5]\n",
        "y=[5,10,12,13,15]\n",
        "i=0\n",
        "sum=[]\n",
        "while(i<len(x)):\n",
        "  sum.append(x[i]+y[i])\n",
        "  i=i+1\n",
        "sum\n",
        "```\n"
      ],
      "metadata": {
        "id": "JkewcK4r0qzT"
      }
    },
    {
      "cell_type": "markdown",
      "source": [
        "For each item inthe following list of firtsname and lastname of the people, create a list of greetings, with the following message.\n",
        "message = \"Hello, Firstname Lastname!\"\n",
        "\n",
        "people= people= [{\"firstname\":\"Amy\", \"lastname\":\"Shaw\"}, {\"firstname\":\"Harry\", \"lastname\":\"Potter\"}]\n",
        "\n",
        "greetings = [\"Hello, Amy Shaw\", \"Hello, Harry Potter!\"]"
      ],
      "metadata": {
        "id": "zYxls54s3RNx"
      }
    },
    {
      "cell_type": "code",
      "source": [
        "people= [{\"firstname\":\"Amy\", \"lastname\":\"Shaw\"}, {\"firstname\":\"Harry\", \"lastname\":\"Potter\"}]\n",
        "greetings=[]\n",
        "\n",
        "for eachperson in people:\n",
        "  message=\"Hello, \" + eachperson[\"firstname\"] + \" \" + eachperson[\"lastname\"] + \"!\"\n",
        "  greetings.append(message)\n",
        "\n",
        "print(greetings)"
      ],
      "metadata": {
        "colab": {
          "base_uri": "https://localhost:8080/"
        },
        "id": "lMgfDGar3J2c",
        "outputId": "f35807dc-8564-4a51-e554-9fea131a82db"
      },
      "execution_count": 4,
      "outputs": [
        {
          "output_type": "stream",
          "name": "stdout",
          "text": [
            "['Hello, Amy Shaw!', 'Hello, Harry Potter!']\n"
          ]
        }
      ]
    },
    {
      "cell_type": "code",
      "source": [
        "name=\"Gini\"\n",
        "p=\"beautiful\"\n",
        "height=\"5ft4in\"\n",
        "\n",
        "str=\"Gini is very beautiful girl. Gini's height is 5ft4in. 5ft4in height for girls is very beautiful\"\n",
        "\n",
        "templatestr=\"{0} is very {1} girl.{0}'s height is {2}. {2} height for girls is very {1}\"\n",
        "result=templatestr.format(name, p, height)\n",
        "#print(result)\n",
        "\n",
        "name1=\"Harry\"\n",
        "p1=\"amazing\"\n",
        "height1=\"7ft20in\"\n",
        "result1=templatestr.format(name1, p1, height1)\n",
        "print(result1)\n"
      ],
      "metadata": {
        "colab": {
          "base_uri": "https://localhost:8080/"
        },
        "id": "e4tgjNnw9EBz",
        "outputId": "4c5c02a5-22c1-4188-ecf1-9e89aa0d98f6"
      },
      "execution_count": 6,
      "outputs": [
        {
          "output_type": "stream",
          "name": "stdout",
          "text": [
            "Harry is very amazing girl.Harry's height is 7ft20in. 7ft20in height for girls is very amazing\n"
          ]
        }
      ]
    },
    {
      "cell_type": "markdown",
      "source": [
        "# Customising the string for a large dataset.\n",
        "1. Here in this code we have a list of people, and we want to write a custom message. We have a template for message and we have to customise the template based on different people.\n",
        "2. Created a sample string to understand the desired output and to create the template\n",
        "3. Created a template with five arguments/parameters by replacing the values which are important for custom message.\n",
        "4. Iterated using for loop to print the custom message.\n",
        "5. Same thing can be done using while loop instead of for loop as well."
      ],
      "metadata": {
        "id": "WqqC4yy8YXLd"
      }
    },
    {
      "cell_type": "code",
      "source": [
        "list_of_people = [\n",
        "  {\n",
        "    \"name\": \"Ramesh\",\n",
        "    \"sex\": \"male\",\n",
        "    \"quality\": \"crazy\",\n",
        "    \"age\": 30,\n",
        "    \"height\": \"5ft4in\"\n",
        "  },\n",
        "  {\n",
        "    \"name\": \"Anjali\",\n",
        "    \"sex\": \"female\",\n",
        "    \"quality\": \"kind\",\n",
        "    \"age\": 25,\n",
        "    \"height\": \"5ft6in\"\n",
        "  },\n",
        "  {\n",
        "    \"name\": \"Suresh\",\n",
        "    \"sex\": \"male\",\n",
        "    \"quality\": \"brave\",\n",
        "    \"age\": 32,\n",
        "    \"height\": \"5ft10in\"\n",
        "  },\n",
        "  {\n",
        "    \"name\": \"Maya\",\n",
        "    \"sex\": \"female\",\n",
        "    \"quality\": \"creative\",\n",
        "    \"age\": 28,\n",
        "    \"height\": \"5ft5in\"\n",
        "  },\n",
        "  {\n",
        "    \"name\": \"Rahul\",\n",
        "    \"sex\": \"male\",\n",
        "    \"quality\": \"funny\",\n",
        "    \"age\": 27,\n",
        "    \"height\": \"5ft9in\"\n",
        "  },\n",
        "  {\n",
        "    \"name\": \"Priya\",\n",
        "    \"sex\": \"female\",\n",
        "    \"quality\": \"intelligent\",\n",
        "    \"age\": 24,\n",
        "    \"height\": \"5ft4in\"\n",
        "  },\n",
        "  {\n",
        "    \"name\": \"Vikas\",\n",
        "    \"sex\": \"male\",\n",
        "    \"quality\": \"adventurous\",\n",
        "    \"age\": 29,\n",
        "    \"height\": \"6ft0in\"\n",
        "  },\n",
        "  {\n",
        "    \"name\": \"Sana\",\n",
        "    \"sex\": \"female\",\n",
        "    \"quality\": \"thoughtful\",\n",
        "    \"age\": 31,\n",
        "    \"height\": \"5ft7in\"\n",
        "  },\n",
        "  {\n",
        "    \"name\": \"Amit\",\n",
        "    \"sex\": \"male\",\n",
        "    \"quality\": \"ambitious\",\n",
        "    \"age\": 26,\n",
        "    \"height\": \"5ft11in\"\n",
        "  },\n",
        "  {\n",
        "    \"name\": \"Neha\",\n",
        "    \"sex\": \"female\",\n",
        "    \"quality\": \"generous\",\n",
        "    \"age\": 30,\n",
        "    \"height\": \"5ft3in\"\n",
        "  },\n",
        "  {\n",
        "    \"name\": \"Rohit\",\n",
        "    \"sex\": \"male\",\n",
        "    \"quality\": \"curious\",\n",
        "    \"age\": 33,\n",
        "    \"height\": \"5ft8in\"\n",
        "  },\n",
        "  {\n",
        "    \"name\": \"Divya\",\n",
        "    \"sex\": \"female\",\n",
        "    \"quality\": \"friendly\",\n",
        "    \"age\": 27,\n",
        "    \"height\": \"5ft5in\"\n",
        "  },\n",
        "  {\n",
        "    \"name\": \"Kunal\",\n",
        "    \"sex\": \"male\",\n",
        "    \"quality\": \"wise\",\n",
        "    \"age\": 35,\n",
        "    \"height\": \"6ft1in\"\n",
        "  },\n",
        "  {\n",
        "    \"name\": \"Isha\",\n",
        "    \"sex\": \"female\",\n",
        "    \"quality\": \"charming\",\n",
        "    \"age\": 23,\n",
        "    \"height\": \"5ft2in\"\n",
        "  },\n",
        "  {\n",
        "    \"name\": \"Arjun\",\n",
        "    \"sex\": \"male\",\n",
        "    \"quality\": \"diligent\",\n",
        "    \"age\": 29,\n",
        "    \"height\": \"5ft9in\"\n",
        "  },\n",
        "  {\n",
        "    \"name\": \"Meera\",\n",
        "    \"sex\": \"female\",\n",
        "    \"quality\": \"optimistic\",\n",
        "    \"age\": 28,\n",
        "    \"height\": \"5ft6in\"\n",
        "  },\n",
        "  {\n",
        "    \"name\": \"Vijay\",\n",
        "    \"sex\": \"male\",\n",
        "    \"quality\": \"hardworking\",\n",
        "    \"age\": 34,\n",
        "    \"height\": \"5ft7in\"\n",
        "  },\n",
        "  {\n",
        "    \"name\": \"Rina\",\n",
        "    \"sex\": \"female\",\n",
        "    \"quality\": \"caring\",\n",
        "    \"age\": 26,\n",
        "    \"height\": \"5ft4in\"\n",
        "  },\n",
        "  {\n",
        "    \"name\": \"Nikhil\",\n",
        "    \"sex\": \"male\",\n",
        "    \"quality\": \"perceptive\",\n",
        "    \"age\": 31,\n",
        "    \"height\": \"6ft0in\"\n",
        "  },\n",
        "  {\n",
        "    \"name\": \"Kavya\",\n",
        "    \"sex\": \"female\",\n",
        "    \"quality\": \"calm\",\n",
        "    \"age\": 25,\n",
        "    \"height\": \"5ft5in\"\n",
        "  },\n",
        "  {\n",
        "    \"name\": \"Manish\",\n",
        "    \"sex\": \"male\",\n",
        "    \"quality\": \"confident\",\n",
        "    \"age\": 32,\n",
        "    \"height\": \"5ft10in\"\n",
        "  },\n",
        "  {\n",
        "    \"name\": \"Pooja\",\n",
        "    \"sex\": \"female\",\n",
        "    \"quality\": \"loving\",\n",
        "    \"age\": 29,\n",
        "    \"height\": \"5ft7in\"\n",
        "  },\n",
        "  {\n",
        "    \"name\": \"Akash\",\n",
        "    \"sex\": \"male\",\n",
        "    \"quality\": \"enthusiastic\",\n",
        "    \"age\": 27,\n",
        "    \"height\": \"5ft9in\"\n",
        "  },\n",
        "  {\n",
        "    \"name\": \"Sneha\",\n",
        "    \"sex\": \"female\",\n",
        "    \"quality\": \"passionate\",\n",
        "    \"age\": 28,\n",
        "    \"height\": \"5ft6in\"\n",
        "  },\n",
        "  {\n",
        "    \"name\": \"Ravi\",\n",
        "    \"sex\": \"male\",\n",
        "    \"quality\": \"kind\",\n",
        "    \"age\": 33,\n",
        "    \"height\": \"5ft11in\"\n",
        "  },\n",
        "  {\n",
        "    \"name\": \"Naina\",\n",
        "    \"sex\": \"female\",\n",
        "    \"quality\": \"graceful\",\n",
        "    \"age\": 24,\n",
        "    \"height\": \"5ft3in\"\n",
        "  },\n",
        "  {\n",
        "    \"name\": \"Yash\",\n",
        "    \"sex\": \"male\",\n",
        "    \"quality\": \"humble\",\n",
        "    \"age\": 30,\n",
        "    \"height\": \"6ft0in\"\n",
        "  },\n",
        "  {\n",
        "    \"name\": \"Ritu\",\n",
        "    \"sex\": \"female\",\n",
        "    \"quality\": \"patient\",\n",
        "    \"age\": 26,\n",
        "    \"height\": \"5ft4in\"\n",
        "  },\n",
        "  {\n",
        "    \"name\": \"Kabir\",\n",
        "    \"sex\": \"male\",\n",
        "    \"quality\": \"charismatic\",\n",
        "    \"age\": 35,\n",
        "    \"height\": \"5ft10in\"\n",
        "  },\n",
        "  {\n",
        "    \"name\": \"Alia\",\n",
        "    \"sex\": \"female\",\n",
        "    \"quality\": \"artistic\",\n",
        "    \"age\": 27,\n",
        "    \"height\": \"5ft5in\"\n",
        "  },\n",
        "  {\n",
        "    \"name\": \"Vikram\",\n",
        "    \"sex\": \"male\",\n",
        "    \"quality\": \"decisive\",\n",
        "    \"age\": 31,\n",
        "    \"height\": \"5ft8in\"\n",
        "  },\n",
        "  {\n",
        "    \"name\": \"Shreya\",\n",
        "    \"sex\": \"female\",\n",
        "    \"quality\": \"sensitive\",\n",
        "    \"age\": 28,\n",
        "    \"height\": \"5ft6in\"\n",
        "  },\n",
        "  {\n",
        "    \"name\": \"Tarun\",\n",
        "    \"sex\": \"male\",\n",
        "    \"quality\": \"innovative\",\n",
        "    \"age\": 29,\n",
        "    \"height\": \"5ft9in\"\n",
        "  },\n",
        "  {\n",
        "    \"name\": \"Anita\",\n",
        "    \"sex\": \"female\",\n",
        "    \"quality\": \"dynamic\",\n",
        "    \"age\": 33,\n",
        "    \"height\": \"5ft4in\"\n",
        "  },\n",
        "  {\n",
        "    \"name\": \"Raj\",\n",
        "    \"sex\": \"male\",\n",
        "    \"quality\": \"courageous\",\n",
        "    \"age\": 32,\n",
        "    \"height\": \"5ft11in\"\n",
        "  },\n",
        "  {\n",
        "    \"name\": \"Simran\",\n",
        "    \"sex\": \"female\",\n",
        "    \"quality\": \"friendly\",\n",
        "    \"age\": 24,\n",
        "    \"height\": \"5ft2in\"\n",
        "  },\n",
        "  {\n",
        "    \"name\": \"Sanjay\",\n",
        "    \"sex\": \"male\",\n",
        "    \"quality\": \"calm\",\n",
        "    \"age\": 28,\n",
        "    \"height\": \"6ft0in\"\n",
        "  },\n",
        "  {\n",
        "    \"name\": \"Jaya\",\n",
        "    \"sex\": \"female\",\n",
        "    \"quality\": \"generous\",\n",
        "    \"age\": 30,\n",
        "    \"height\": \"5ft5in\"\n",
        "  },\n",
        "  {\n",
        "    \"name\": \"Deepak\",\n",
        "    \"sex\": \"male\",\n",
        "    \"quality\": \"ambitious\",\n",
        "    \"age\": 29,\n",
        "    \"height\": \"5ft8in\"\n",
        "  },\n",
        "  {\n",
        "    \"name\": \"Lata\",\n",
        "    \"sex\": \"female\",\n",
        "    \"quality\": \"thoughtful\",\n",
        "    \"age\": 27,\n",
        "    \"height\": \"5ft4in\"\n",
        "  },\n",
        "  {\n",
        "    \"name\": \"Naveen\",\n",
        "    \"sex\": \"male\",\n",
        "    \"quality\": \"hardworking\",\n",
        "    \"age\": 31,\n",
        "    \"height\": \"5ft10in\"\n",
        "  },\n",
        "  {\n",
        "    \"name\": \"Rashmi\",\n",
        "    \"sex\": \"female\",\n",
        "    \"quality\": \"patient\",\n",
        "    \"age\": 25,\n",
        "    \"height\": \"5ft6in\"\n",
        "  },\n",
        "  {\n",
        "    \"name\": \"Aakash\",\n",
        "    \"sex\": \"male\",\n",
        "    \"quality\": \"wise\",\n",
        "    \"age\": 34,\n",
        "    \"height\": \"6ft1in\"\n",
        "  },\n",
        "  {\n",
        "    \"name\": \"Payal\",\n",
        "    \"sex\": \"female\",\n",
        "    \"quality\": \"charming\",\n",
        "    \"age\": 26,\n",
        "    \"height\": \"5ft3in\"\n",
        "  },\n",
        "  {\n",
        "    \"name\": \"Rajesh\",\n",
        "    \"sex\": \"male\",\n",
        "    \"quality\": \"curious\",\n",
        "    \"age\": 33,\n",
        "    \"height\": \"5ft9in\"\n",
        "  },\n",
        "  {\n",
        "    \"name\": \"Sunita\",\n",
        "    \"sex\": \"female\",\n",
        "    \"quality\": \"optimistic\",\n",
        "    \"age\": 28,\n",
        "    \"height\": \"5ft5in\"\n",
        "  },\n",
        "  {\n",
        "    \"name\": \"Pankaj\",\n",
        "    \"sex\": \"male\",\n",
        "    \"quality\": \"creative\",\n",
        "    \"age\": 30,\n",
        "    \"height\": \"5ft11in\"\n",
        "  },\n",
        "  {\n",
        "    \"name\": \"Vandana\",\n",
        "    \"sex\": \"female\",\n",
        "    \"quality\": \"caring\",\n",
        "    \"age\": 24,\n",
        "    \"height\": \"5ft4in\"\n",
        "  },\n",
        "  {\n",
        "    \"name\": \"Raghav\",\n",
        "    \"sex\": \"male\",\n",
        "    \"quality\": \"confident\",\n",
        "    \"age\": 32,\n",
        "    \"height\": \"6ft0in\"\n",
        "  }\n",
        "]\n",
        "\n",
        "\n",
        "sample_string = \"Raghav is an amazing person. Raghav's is a male. He is very confident and confident people are great to engage. Raghav is 32 years old. He is 6ft0in tall.\"\n",
        "template_string = \"{0} is an amazing person. {0}'s is a {1}. He is very {2} and {2} people are great to engage. {0} is {3} years old. He is {4} tall.\"\n",
        "# i=0\n",
        "# while(i<len(list_of_people)):\n",
        "#   custom_template=template_string.format(list_of_people[i][\"name\"], list_of_people[i][\"sex\"], list_of_people[i][\"quality\"], list_of_people[i][\"age\"], list_of_people[i][\"height\"])\n",
        "#   print(custom_template)\n",
        "#   i=i+1\n",
        "\n",
        "for x in list_of_people:\n",
        "  custom_template=template_string.format(x[\"name\"], x[\"sex\"], x[\"quality\"], x[\"age\"], x[\"height\"])\n",
        "  print(custom_template)\n",
        "\n",
        "\n"
      ],
      "metadata": {
        "colab": {
          "base_uri": "https://localhost:8080/"
        },
        "id": "W09ZtCPdGdXR",
        "outputId": "800acf0d-aa0f-4a1c-96c5-b5764a7d5f49"
      },
      "execution_count": 27,
      "outputs": [
        {
          "output_type": "stream",
          "name": "stdout",
          "text": [
            "Ramesh is an amazing person. Ramesh's is a male. He is very crazy and crazy people are great to engage. Ramesh is 30 years old. He is 5ft4in tall.\n",
            "Anjali is an amazing person. Anjali's is a female. He is very kind and kind people are great to engage. Anjali is 25 years old. He is 5ft6in tall.\n",
            "Suresh is an amazing person. Suresh's is a male. He is very brave and brave people are great to engage. Suresh is 32 years old. He is 5ft10in tall.\n",
            "Maya is an amazing person. Maya's is a female. He is very creative and creative people are great to engage. Maya is 28 years old. He is 5ft5in tall.\n",
            "Rahul is an amazing person. Rahul's is a male. He is very funny and funny people are great to engage. Rahul is 27 years old. He is 5ft9in tall.\n",
            "Priya is an amazing person. Priya's is a female. He is very intelligent and intelligent people are great to engage. Priya is 24 years old. He is 5ft4in tall.\n",
            "Vikas is an amazing person. Vikas's is a male. He is very adventurous and adventurous people are great to engage. Vikas is 29 years old. He is 6ft0in tall.\n",
            "Sana is an amazing person. Sana's is a female. He is very thoughtful and thoughtful people are great to engage. Sana is 31 years old. He is 5ft7in tall.\n",
            "Amit is an amazing person. Amit's is a male. He is very ambitious and ambitious people are great to engage. Amit is 26 years old. He is 5ft11in tall.\n",
            "Neha is an amazing person. Neha's is a female. He is very generous and generous people are great to engage. Neha is 30 years old. He is 5ft3in tall.\n",
            "Rohit is an amazing person. Rohit's is a male. He is very curious and curious people are great to engage. Rohit is 33 years old. He is 5ft8in tall.\n",
            "Divya is an amazing person. Divya's is a female. He is very friendly and friendly people are great to engage. Divya is 27 years old. He is 5ft5in tall.\n",
            "Kunal is an amazing person. Kunal's is a male. He is very wise and wise people are great to engage. Kunal is 35 years old. He is 6ft1in tall.\n",
            "Isha is an amazing person. Isha's is a female. He is very charming and charming people are great to engage. Isha is 23 years old. He is 5ft2in tall.\n",
            "Arjun is an amazing person. Arjun's is a male. He is very diligent and diligent people are great to engage. Arjun is 29 years old. He is 5ft9in tall.\n",
            "Meera is an amazing person. Meera's is a female. He is very optimistic and optimistic people are great to engage. Meera is 28 years old. He is 5ft6in tall.\n",
            "Vijay is an amazing person. Vijay's is a male. He is very hardworking and hardworking people are great to engage. Vijay is 34 years old. He is 5ft7in tall.\n",
            "Rina is an amazing person. Rina's is a female. He is very caring and caring people are great to engage. Rina is 26 years old. He is 5ft4in tall.\n",
            "Nikhil is an amazing person. Nikhil's is a male. He is very perceptive and perceptive people are great to engage. Nikhil is 31 years old. He is 6ft0in tall.\n",
            "Kavya is an amazing person. Kavya's is a female. He is very calm and calm people are great to engage. Kavya is 25 years old. He is 5ft5in tall.\n",
            "Manish is an amazing person. Manish's is a male. He is very confident and confident people are great to engage. Manish is 32 years old. He is 5ft10in tall.\n",
            "Pooja is an amazing person. Pooja's is a female. He is very loving and loving people are great to engage. Pooja is 29 years old. He is 5ft7in tall.\n",
            "Akash is an amazing person. Akash's is a male. He is very enthusiastic and enthusiastic people are great to engage. Akash is 27 years old. He is 5ft9in tall.\n",
            "Sneha is an amazing person. Sneha's is a female. He is very passionate and passionate people are great to engage. Sneha is 28 years old. He is 5ft6in tall.\n",
            "Ravi is an amazing person. Ravi's is a male. He is very kind and kind people are great to engage. Ravi is 33 years old. He is 5ft11in tall.\n",
            "Naina is an amazing person. Naina's is a female. He is very graceful and graceful people are great to engage. Naina is 24 years old. He is 5ft3in tall.\n",
            "Yash is an amazing person. Yash's is a male. He is very humble and humble people are great to engage. Yash is 30 years old. He is 6ft0in tall.\n",
            "Ritu is an amazing person. Ritu's is a female. He is very patient and patient people are great to engage. Ritu is 26 years old. He is 5ft4in tall.\n",
            "Kabir is an amazing person. Kabir's is a male. He is very charismatic and charismatic people are great to engage. Kabir is 35 years old. He is 5ft10in tall.\n",
            "Alia is an amazing person. Alia's is a female. He is very artistic and artistic people are great to engage. Alia is 27 years old. He is 5ft5in tall.\n",
            "Vikram is an amazing person. Vikram's is a male. He is very decisive and decisive people are great to engage. Vikram is 31 years old. He is 5ft8in tall.\n",
            "Shreya is an amazing person. Shreya's is a female. He is very sensitive and sensitive people are great to engage. Shreya is 28 years old. He is 5ft6in tall.\n",
            "Tarun is an amazing person. Tarun's is a male. He is very innovative and innovative people are great to engage. Tarun is 29 years old. He is 5ft9in tall.\n",
            "Anita is an amazing person. Anita's is a female. He is very dynamic and dynamic people are great to engage. Anita is 33 years old. He is 5ft4in tall.\n",
            "Raj is an amazing person. Raj's is a male. He is very courageous and courageous people are great to engage. Raj is 32 years old. He is 5ft11in tall.\n",
            "Simran is an amazing person. Simran's is a female. He is very friendly and friendly people are great to engage. Simran is 24 years old. He is 5ft2in tall.\n",
            "Sanjay is an amazing person. Sanjay's is a male. He is very calm and calm people are great to engage. Sanjay is 28 years old. He is 6ft0in tall.\n",
            "Jaya is an amazing person. Jaya's is a female. He is very generous and generous people are great to engage. Jaya is 30 years old. He is 5ft5in tall.\n",
            "Deepak is an amazing person. Deepak's is a male. He is very ambitious and ambitious people are great to engage. Deepak is 29 years old. He is 5ft8in tall.\n",
            "Lata is an amazing person. Lata's is a female. He is very thoughtful and thoughtful people are great to engage. Lata is 27 years old. He is 5ft4in tall.\n",
            "Naveen is an amazing person. Naveen's is a male. He is very hardworking and hardworking people are great to engage. Naveen is 31 years old. He is 5ft10in tall.\n",
            "Rashmi is an amazing person. Rashmi's is a female. He is very patient and patient people are great to engage. Rashmi is 25 years old. He is 5ft6in tall.\n",
            "Aakash is an amazing person. Aakash's is a male. He is very wise and wise people are great to engage. Aakash is 34 years old. He is 6ft1in tall.\n",
            "Payal is an amazing person. Payal's is a female. He is very charming and charming people are great to engage. Payal is 26 years old. He is 5ft3in tall.\n",
            "Rajesh is an amazing person. Rajesh's is a male. He is very curious and curious people are great to engage. Rajesh is 33 years old. He is 5ft9in tall.\n",
            "Sunita is an amazing person. Sunita's is a female. He is very optimistic and optimistic people are great to engage. Sunita is 28 years old. He is 5ft5in tall.\n",
            "Pankaj is an amazing person. Pankaj's is a male. He is very creative and creative people are great to engage. Pankaj is 30 years old. He is 5ft11in tall.\n",
            "Vandana is an amazing person. Vandana's is a female. He is very caring and caring people are great to engage. Vandana is 24 years old. He is 5ft4in tall.\n",
            "Raghav is an amazing person. Raghav's is a male. He is very confident and confident people are great to engage. Raghav is 32 years old. He is 6ft0in tall.\n"
          ]
        }
      ]
    }
  ]
}